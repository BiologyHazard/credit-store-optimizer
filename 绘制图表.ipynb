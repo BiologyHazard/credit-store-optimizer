{
 "cells": [
  {
   "cell_type": "code",
   "execution_count": null,
   "metadata": {},
   "outputs": [],
   "source": [
    "import matplotlib.pyplot as plt\n",
    "\n",
    "plt.rcParams['font.family'] = 'Source Han Sans CN'\n",
    "plt.rcParams['figure.dpi'] = 300\n",
    "plt.rcParams['figure.figsize'] = (10, 7)\n"
   ]
  },
  {
   "cell_type": "code",
   "execution_count": null,
   "metadata": {},
   "outputs": [],
   "source": [
    "from 中间结果.K··· import K···, K_N减1_·_·, N as N_\n",
    "from 中间结果.每日获得的信用的价值 import 每日获得的信用的价值, 每日获得的信用的价值的导数\n",
    "from 中间结果.信用能购买的商品碎片的价值 import 信用能购买的商品碎片的价值\n"
   ]
  },
  {
   "cell_type": "code",
   "execution_count": null,
   "metadata": {},
   "outputs": [],
   "source": [
    "# K_·_813_·\n",
    "C = 813\n",
    "for n in range(11):\n",
    "    plt.plot([K···(n, C, c) for c in range(301)], label=f'K_{n}_813_·')\n",
    "plt.legend(loc='upper left', bbox_to_anchor=(1, 1))\n",
    "plt.title('K_·_813_·')\n",
    "plt.xlabel('继承的信用 c')\n",
    "plt.minorticks_on()\n",
    "plt.grid(color='lightgray', which='both')\n"
   ]
  },
  {
   "cell_type": "code",
   "execution_count": null,
   "metadata": {},
   "outputs": [],
   "source": [
    "# K_10_813_·\n",
    "n = 10\n",
    "C = 813\n",
    "plt.plot([0, 300], [K···(n, C, 0), K···(n, C, 300)], label=f'连接端点的线段', linestyle='--', color='#AAA', linewidth=1)\n",
    "plt.plot([K···(n, C, c) for c in range(301)], label=f'K_{n}_813_·')\n",
    "plt.legend()\n",
    "plt.title('K_10_813_·')\n",
    "plt.xlabel('继承的信用 c')\n",
    "plt.xlim(0, 300)\n",
    "plt.ylim(840, 856)\n",
    "plt.minorticks_on()\n",
    "plt.grid(color='lightgray', which='both')\n"
   ]
  },
  {
   "cell_type": "code",
   "execution_count": null,
   "metadata": {},
   "outputs": [],
   "source": [
    "# 标准化的 K_·_813_·\n",
    "C = 813\n",
    "for n in range(11):\n",
    "    plt.plot([K···(n, C, c) - K···(n, C, 0) for c in range(301)], label=f'标准化的 K_{n}_813_·', linewidth=1)\n",
    "plt.legend()\n",
    "plt.title('标准化的 K_·_813_·')\n",
    "plt.xlabel('继承的信用 c')\n",
    "plt.minorticks_on()\n",
    "plt.grid(color='lightgray', which='both')\n"
   ]
  },
  {
   "cell_type": "code",
   "execution_count": null,
   "metadata": {},
   "outputs": [],
   "source": [
    "# 每日获得的信用的价值\n",
    "plt.plot(每日获得的信用的价值(range(1001)), label='每日获得的信用的价值')\n",
    "plt.legend()\n",
    "plt.title('每日获得的信用的价值与每日获得的信用的关系')\n",
    "plt.xlabel('每日获得的信用')\n",
    "plt.ylabel('价值（理智）')\n",
    "plt.xlim(0, 1000)\n",
    "plt.ylim(0, 100)\n",
    "plt.minorticks_on()\n",
    "plt.grid(color='lightgray', which='both')\n"
   ]
  },
  {
   "cell_type": "code",
   "execution_count": null,
   "metadata": {},
   "outputs": [],
   "source": [
    "# “1”信用的价值\n",
    "plt.plot(每日获得的信用的价值的导数(range(1, 1001)), label='“1”信用的价值')\n",
    "plt.legend()\n",
    "plt.title('“1”信用的价值（曲线已平滑化）')\n",
    "plt.xlabel('每日获得的信用')\n",
    "plt.ylabel('价值（理智）')\n",
    "plt.xlim(-10, 1000)\n",
    "plt.ylim(bottom=0)\n",
    "plt.minorticks_on()\n",
    "plt.grid(color='lightgray', which='both')\n"
   ]
  },
  {
   "cell_type": "code",
   "execution_count": null,
   "metadata": {},
   "outputs": [],
   "source": [
    "# 信用能购买的商品碎片的价值\n",
    "plt.plot(信用能购买的商品碎片的价值, label='信用能购买的商品碎片的价值')\n",
    "plt.legend()\n",
    "plt.title('信用能购买的商品碎片的价值')\n",
    "plt.xlabel('信用 c')\n",
    "plt.ylabel('价值（理智）')\n",
    "plt.xlim(0, 1200)\n",
    "plt.ylim(0, 100)\n",
    "plt.minorticks_on()\n",
    "plt.grid(color='lightgray', which='both')\n"
   ]
  },
  {
   "cell_type": "code",
   "execution_count": null,
   "metadata": {},
   "outputs": [],
   "source": [
    "# 最优策略的近似\n",
    "plt.plot(信用能购买的商品碎片的价值, label='信用能购买的商品碎片的价值', linewidth=1)\n",
    "for C in range(200, 1001, 200):\n",
    "    plt.plot(\n",
    "        range(C - 150, C + 151),\n",
    "        [K_N减1_·_·(C, c) - K_N减1_·_·(C, 150) + 信用能购买的商品碎片的价值[C] for c in range(301)],\n",
    "        label=f'K_{N_ - 1}_{C}_·（经适当平移）',\n",
    "        linewidth=1,\n",
    "    )\n",
    "plt.legend()\n",
    "plt.title('K_10_·_· 的真实值与近似值')\n",
    "plt.xlabel('信用 c')\n",
    "plt.ylabel('价值（理智）')\n",
    "plt.xlim(0, 1200)\n",
    "plt.ylim(0, 100)\n",
    "plt.minorticks_on()\n",
    "plt.grid(color='lightgray', which='both')\n"
   ]
  }
 ],
 "metadata": {
  "kernelspec": {
   "display_name": "Python 3",
   "language": "python",
   "name": "python3"
  },
  "language_info": {
   "codemirror_mode": {
    "name": "ipython",
    "version": 3
   },
   "file_extension": ".py",
   "mimetype": "text/x-python",
   "name": "python",
   "nbconvert_exporter": "python",
   "pygments_lexer": "ipython3",
   "version": "3.12.0"
  }
 },
 "nbformat": 4,
 "nbformat_minor": 2
}
